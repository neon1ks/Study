{
 "cells": [
  {
   "cell_type": "markdown",
   "id": "90876339",
   "metadata": {},
   "source": [
    "## Задача 1\n",
    "\n",
    "Дана строка в кодировке UTF-8\n",
    "\n",
    "Найти самый часто встречающийся в ней символ. Если несколько символов встречаются одинаково часто, то можно вывести любой."
   ]
  },
  {
   "cell_type": "markdown",
   "id": "136807c1",
   "metadata": {},
   "source": [
    "### Решение 1 первой задачи\n",
    "\n",
    "Переберем все позиции и для каждой позици в строке ещй раз переберем все позиции и в случае воспадения прибавим к счётчику еденицу. Найдем максимальное значение счётчика. Сложность $O(n^2)$"
   ]
  },
  {
   "cell_type": "code",
   "execution_count": 2,
   "id": "99f3ff4d",
   "metadata": {},
   "outputs": [
    {
     "name": "stdout",
     "output_type": "stream",
     "text": [
      "asfdgikgasldkjiojglksjlkafjsl;jfieskldjglksajk\n",
      "k\n"
     ]
    }
   ],
   "source": [
    "s = input()\n",
    "ans = ''\n",
    "anscnt = 0\n",
    "for i in range(len(s)):\n",
    "    nowcnt = 0\n",
    "    for j in range(len(s)):\n",
    "        if s[i] == s[j]:\n",
    "            nowcnt += 1\n",
    "    if nowcnt > anscnt:\n",
    "        ans = s[i]\n",
    "        anscnt = nowcnt\n",
    "print(ans)"
   ]
  },
  {
   "cell_type": "markdown",
   "id": "76bbf081",
   "metadata": {},
   "source": [
    "### Решение 2 первой задачи\n",
    "\n",
    "Переберем все символы, встречающиеся в строке, а затем переберем все позции и в случае совпадения прибавим к счетчику единицу. Найдём максимальное значение счётчика. Сложность $O(Nk)$."
   ]
  },
  {
   "cell_type": "code",
   "execution_count": 3,
   "id": "7957c996",
   "metadata": {},
   "outputs": [
    {
     "name": "stdout",
     "output_type": "stream",
     "text": [
      "dsfjjgirjkljdslkttthksdtttsahtkshtttskjdljtlkt\n",
      "t\n"
     ]
    }
   ],
   "source": [
    "s = input()\n",
    "ans = ''\n",
    "anscnt = 0\n",
    "for now in set(s):\n",
    "    nowcnt = 0\n",
    "    for j in range(len(s)):\n",
    "        if s[i] == s[j]:\n",
    "            nowcnt += 1\n",
    "    if nowcnt > anscnt:\n",
    "        ans = s[i]\n",
    "        anscnt = nowcnt\n",
    "print(ans)"
   ]
  },
  {
   "cell_type": "markdown",
   "id": "da08f49a",
   "metadata": {},
   "source": [
    "### Решение 3 первой задачи\n",
    "\n",
    "Заведем словарь, где ключом является символ, а значением — сколько раз он встретился. Если символ встретился впервые — создаем элемент словаря с ключом, совпадающем с этим символом и значением ноль. Прибавляем к элементу словаря с ключом, совпадающем с этим символом, единицу. Сложность $O(N + k)$, т.е. $N > k$, то $O(N)$."
   ]
  },
  {
   "cell_type": "code",
   "execution_count": 6,
   "id": "3a442b46",
   "metadata": {},
   "outputs": [
    {
     "name": "stdout",
     "output_type": "stream",
     "text": [
      "dsfjjgirjkljdslkttthksdtttsahtkshtttskjdljtlkt\n",
      "t\n"
     ]
    }
   ],
   "source": [
    "s = input()\n",
    "ans = ''\n",
    "anscnt = 0\n",
    "dct = {}\n",
    "for now in s:\n",
    "    if now not in dct:\n",
    "        dct[now] = 0\n",
    "    dct[now] += 1\n",
    "for key in dct:\n",
    "    if dct[key] > anscnt:\n",
    "        anscnt = dct[key]\n",
    "        ans = key\n",
    "print(ans)"
   ]
  },
  {
   "cell_type": "markdown",
   "id": "2929d735",
   "metadata": {},
   "source": [
    "### Решение 3 (модицифированное) первой задачи"
   ]
  },
  {
   "cell_type": "code",
   "execution_count": 8,
   "id": "41c2a0f2",
   "metadata": {},
   "outputs": [
    {
     "name": "stdout",
     "output_type": "stream",
     "text": [
      "dskjkfkdsjfkjskghuihkjsdhjfjdstttsjkhjttttt\n",
      "j\n"
     ]
    }
   ],
   "source": [
    "s = input()\n",
    "ans = ''\n",
    "anscnt = 0\n",
    "symcnt = {}\n",
    "for now in s:\n",
    "    if now not in symcnt:\n",
    "        symcnt[now] = 0\n",
    "    symcnt[now] += 1\n",
    "    if symcnt[now] > anscnt:\n",
    "        ans = now\n",
    "        anscnt = symcnt[now]\n",
    "print(ans)"
   ]
  },
  {
   "cell_type": "markdown",
   "id": "2e1479ee",
   "metadata": {},
   "source": [
    "### Сумма последовательности"
   ]
  },
  {
   "cell_type": "code",
   "execution_count": 10,
   "id": "e5a43bf6",
   "metadata": {},
   "outputs": [
    {
     "name": "stdout",
     "output_type": "stream",
     "text": [
      "1 2 3 4 5 6 7 8 9\n",
      "45\n"
     ]
    }
   ],
   "source": [
    "seq = list(map(int, input().split()))\n",
    "if len(seq) == 0:\n",
    "    print(0)\n",
    "else:\n",
    "    seqsum = seq[0]\n",
    "    for i in range(1, len(seq)):\n",
    "        seqsum += seq[i]\n",
    "    print(seqsum)"
   ]
  },
  {
   "cell_type": "code",
   "execution_count": 11,
   "id": "3476d7a9",
   "metadata": {},
   "outputs": [
    {
     "name": "stdout",
     "output_type": "stream",
     "text": [
      "1 2 3 4 5 6 7 8 9\n",
      "45\n"
     ]
    }
   ],
   "source": [
    "seq = list(map(int, input().split()))\n",
    "seqsum = 0\n",
    "for i in range(len(seq)):\n",
    "    seqsum += seq[i]\n",
    "print(seqsum)"
   ]
  },
  {
   "cell_type": "markdown",
   "id": "2a9a104e",
   "metadata": {},
   "source": [
    "### Максимум последовательности"
   ]
  },
  {
   "cell_type": "code",
   "execution_count": 13,
   "id": "c9ff114d",
   "metadata": {},
   "outputs": [
    {
     "name": "stdout",
     "output_type": "stream",
     "text": [
      "1 2 3 4 5 6 7 6 5 4 3 3\n",
      "7\n"
     ]
    }
   ],
   "source": [
    "seq = list(map(int, input().split()))\n",
    "seqmax = 0\n",
    "for i in range(len(seq)):\n",
    "    if seq[i] > seqmax:\n",
    "        seqmax = seq[i]\n",
    "print(seqmax)"
   ]
  },
  {
   "cell_type": "code",
   "execution_count": 19,
   "id": "6be60099",
   "metadata": {},
   "outputs": [
    {
     "name": "stdout",
     "output_type": "stream",
     "text": [
      "-3 -4 -5 -6\n",
      "-3\n"
     ]
    }
   ],
   "source": [
    "seq = list(map(int, input().split()))\n",
    "if len(seq) == 0:\n",
    "    print('-inf')\n",
    "else:\n",
    "    seqmax = seq[0]\n",
    "    for i in range(1, len(seq)):\n",
    "        if seq[i] > seqmax:\n",
    "            seqmax = seq[i]\n",
    "    print(seqmax)"
   ]
  },
  {
   "cell_type": "markdown",
   "id": "987412e3",
   "metadata": {},
   "source": [
    "## Что нужно протестировать?\n",
    "\n",
    "* Тесты из условия (если есть)\n",
    "* Общие случаи\n",
    "* Особые случаи"
   ]
  },
  {
   "cell_type": "code",
   "execution_count": 20,
   "id": "5b6ad789",
   "metadata": {},
   "outputs": [
    {
     "name": "stdout",
     "output_type": "stream",
     "text": [
      "Test1:  True\n",
      "Test2:  True\n",
      "Test3:  True\n",
      "Test4:  True\n",
      "Test5:  True\n",
      "Test6:  True\n",
      "Test7:  True\n"
     ]
    }
   ],
   "source": [
    "def find_max(seq):\n",
    "    if len(seq) == 0:\n",
    "        return '-inf'\n",
    "    else:\n",
    "        seqmax = seq[0]\n",
    "        for i in range(1, len(seq)):\n",
    "            if seq[i] > seqmax:\n",
    "                seqmax = seq[i]\n",
    "        return seqmax\n",
    "\n",
    "print('Test1: ', 3 == find_max([1, 3, 2]))\n",
    "print('Test2: ', 3 == find_max([1, 2, 3]))\n",
    "print('Test3: ', 3 == find_max([3, 2, 1]))\n",
    "print('Test4: ', 1 == find_max([1, 1, 1]))\n",
    "print('Test5: ', 1 == find_max([1]))\n",
    "print('Test6: ', '-inf' == find_max([]))\n",
    "print('Test7: ', -1 == find_max([-2, -1, -3]))"
   ]
  },
  {
   "cell_type": "markdown",
   "id": "463cfde4",
   "metadata": {},
   "source": [
    "## Советы по состалению тестов\n",
    "\n",
    "* Если есть примеры — реши их руками и сверь ответ. Если не совпадает, то либо правильных ответов может быть несколько, либо ты неправильно понял задачу\n",
    "* Сначала составь несколько примеров и реши задачу руками, чтобы лучше понять услвоие и чтобы потом было с чем сравнить\n",
    "* Проверь последовательность из одного элемента и пустую последоватьность\n",
    "* «Краевые эффекты» — проверь, что программа работает корректно в начале и конце последовательности, сделай тесты, чтобы ответ находился на первом и на последнем месте в последовательности\n",
    "* Составь покрытие всех ветвлений, так чтобы был тест, которых входит в каждый `if` и `else`\n",
    "* Подбери тесты чтобы не было ни одного входа в цикл\n",
    "* Один тест — ОДна возможная ошибка"
   ]
  },
  {
   "cell_type": "code",
   "execution_count": null,
   "id": "d551e6eb",
   "metadata": {},
   "outputs": [],
   "source": []
  }
 ],
 "metadata": {
  "kernelspec": {
   "display_name": "Python 3 (ipykernel)",
   "language": "python",
   "name": "python3"
  },
  "language_info": {
   "codemirror_mode": {
    "name": "ipython",
    "version": 3
   },
   "file_extension": ".py",
   "mimetype": "text/x-python",
   "name": "python",
   "nbconvert_exporter": "python",
   "pygments_lexer": "ipython3",
   "version": "3.8.10"
  }
 },
 "nbformat": 4,
 "nbformat_minor": 5
}
